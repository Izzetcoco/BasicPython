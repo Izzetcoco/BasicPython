{
  "nbformat": 4,
  "nbformat_minor": 0,
  "metadata": {
    "colab": {
      "provenance": [],
      "authorship_tag": "ABX9TyP9GsXeXhfjasjayN2KASZn",
      "include_colab_link": true
    },
    "kernelspec": {
      "name": "python3",
      "display_name": "Python 3"
    },
    "language_info": {
      "name": "python"
    }
  },
  "cells": [
    {
      "cell_type": "markdown",
      "metadata": {
        "id": "view-in-github",
        "colab_type": "text"
      },
      "source": [
        "<a href=\"https://colab.research.google.com/github/Izzetcoco/BasicPython/blob/main/YzOdev1.ipynb\" target=\"_parent\"><img src=\"https://colab.research.google.com/assets/colab-badge.svg\" alt=\"Open In Colab\"/></a>"
      ]
    },
    {
      "cell_type": "markdown",
      "source": [
        "**While döngüsü nedir ve for döngüsünden farkı nedir?**\n",
        "\n",
        "**FOR**\n",
        "Sayaç değişkeninin başlangıç değeri, koşulu ve artışı tek bir satırda tanımlanır. Bu nedenle daha düzenlidir ve genellikle sayaçlı işlemler için tercih edilir.\n",
        "\n",
        "**WHILE**\n",
        "Koşul doğru olduğu sürece çalışır. Sayaç veya koşul döngü dışında tanımlanır ve güncellenir."
      ],
      "metadata": {
        "id": "JaNbksWvqV2U"
      }
    },
    {
      "cell_type": "markdown",
      "source": [
        "---------------------------------------------------------------------------------------------------\n",
        "\n",
        "**Hangi durumlarda while döngüsü daha kullanışlıdır? Bir örnek bulup açıklayın**\n",
        "\n",
        "While döngüsü, döngü süresinin önceden bilinmediği durumlarda daha kullanışlıdır. Genellikle kullanıcı girdisine bağlı işlemler, sonsuz döngüler ve koşula bağlı tekrar eden işlemler için tercih edilir.\n",
        "\n",
        "*ÖRNEK:*"
      ],
      "metadata": {
        "id": "1qgP0UzpqdRO"
      }
    },
    {
      "cell_type": "code",
      "source": [
        "import random\n",
        "\n",
        "yakıt = 100  # Uzay gemisinin başlangıçtaki yakıt seviyesi\n",
        "\n",
        "print(\"Uzay gemisi kalktı! Yakıt seviyesi:\", yakıt)\n",
        "\n",
        "while yakıt > 10:  # Yakıt 10'un altına düşene kadar uçmaya devam et\n",
        "    yakıt -= random.randint(5, 20)  # Rastgele bir miktar yakıt tüket\n",
        "    print(f\"Motor çalışıyor... Kalan yakıt: {yakıt}\")\n",
        "\n",
        "    if yakıt <= 10:\n",
        "        print(\"Yakıt seviyesi kritik! İniş başlatılıyor...\")\n",
        "\n",
        "print(\"Uzay gemisi güvenli bir şekilde iniş yaptı.\")\n"
      ],
      "metadata": {
        "colab": {
          "base_uri": "https://localhost:8080/"
        },
        "id": "6NV7sVgDqj8u",
        "outputId": "ecff7a8f-dc7a-4b94-97e8-1cdf801aa9b3"
      },
      "execution_count": null,
      "outputs": [
        {
          "output_type": "stream",
          "name": "stdout",
          "text": [
            "Uzay gemisi kalktı! Yakıt seviyesi: 100\n",
            "Motor çalışıyor... Kalan yakıt: 82\n",
            "Motor çalışıyor... Kalan yakıt: 72\n",
            "Motor çalışıyor... Kalan yakıt: 58\n",
            "Motor çalışıyor... Kalan yakıt: 42\n",
            "Motor çalışıyor... Kalan yakıt: 36\n",
            "Motor çalışıyor... Kalan yakıt: 30\n",
            "Motor çalışıyor... Kalan yakıt: 24\n",
            "Motor çalışıyor... Kalan yakıt: 7\n",
            "Yakıt seviyesi kritik! İniş başlatılıyor...\n",
            "Uzay gemisi güvenli bir şekilde iniş yaptı.\n"
          ]
        }
      ]
    },
    {
      "cell_type": "markdown",
      "source": [
        "--------------------------------------------------------\n",
        "\n",
        "**While döngüsünün çalışma mekanizmasını araştırın ve çizin**"
      ],
      "metadata": {
        "id": "cL-jWr-TqpjM"
      }
    },
    {
      "cell_type": "code",
      "source": [
        "from google.colab import files\n",
        "\n",
        "uploaded = files.upload()\n"
      ],
      "metadata": {
        "colab": {
          "base_uri": "https://localhost:8080/",
          "height": 73
        },
        "id": "bhAZzQ_FrD2L",
        "outputId": "9362e376-5d46-4f30-e015-a1a04dc76d76"
      },
      "execution_count": null,
      "outputs": [
        {
          "output_type": "display_data",
          "data": {
            "text/plain": [
              "<IPython.core.display.HTML object>"
            ],
            "text/html": [
              "\n",
              "     <input type=\"file\" id=\"files-43406449-53d2-4d0d-b310-c500129d44d4\" name=\"files[]\" multiple disabled\n",
              "        style=\"border:none\" />\n",
              "     <output id=\"result-43406449-53d2-4d0d-b310-c500129d44d4\">\n",
              "      Upload widget is only available when the cell has been executed in the\n",
              "      current browser session. Please rerun this cell to enable.\n",
              "      </output>\n",
              "      <script>// Copyright 2017 Google LLC\n",
              "//\n",
              "// Licensed under the Apache License, Version 2.0 (the \"License\");\n",
              "// you may not use this file except in compliance with the License.\n",
              "// You may obtain a copy of the License at\n",
              "//\n",
              "//      http://www.apache.org/licenses/LICENSE-2.0\n",
              "//\n",
              "// Unless required by applicable law or agreed to in writing, software\n",
              "// distributed under the License is distributed on an \"AS IS\" BASIS,\n",
              "// WITHOUT WARRANTIES OR CONDITIONS OF ANY KIND, either express or implied.\n",
              "// See the License for the specific language governing permissions and\n",
              "// limitations under the License.\n",
              "\n",
              "/**\n",
              " * @fileoverview Helpers for google.colab Python module.\n",
              " */\n",
              "(function(scope) {\n",
              "function span(text, styleAttributes = {}) {\n",
              "  const element = document.createElement('span');\n",
              "  element.textContent = text;\n",
              "  for (const key of Object.keys(styleAttributes)) {\n",
              "    element.style[key] = styleAttributes[key];\n",
              "  }\n",
              "  return element;\n",
              "}\n",
              "\n",
              "// Max number of bytes which will be uploaded at a time.\n",
              "const MAX_PAYLOAD_SIZE = 100 * 1024;\n",
              "\n",
              "function _uploadFiles(inputId, outputId) {\n",
              "  const steps = uploadFilesStep(inputId, outputId);\n",
              "  const outputElement = document.getElementById(outputId);\n",
              "  // Cache steps on the outputElement to make it available for the next call\n",
              "  // to uploadFilesContinue from Python.\n",
              "  outputElement.steps = steps;\n",
              "\n",
              "  return _uploadFilesContinue(outputId);\n",
              "}\n",
              "\n",
              "// This is roughly an async generator (not supported in the browser yet),\n",
              "// where there are multiple asynchronous steps and the Python side is going\n",
              "// to poll for completion of each step.\n",
              "// This uses a Promise to block the python side on completion of each step,\n",
              "// then passes the result of the previous step as the input to the next step.\n",
              "function _uploadFilesContinue(outputId) {\n",
              "  const outputElement = document.getElementById(outputId);\n",
              "  const steps = outputElement.steps;\n",
              "\n",
              "  const next = steps.next(outputElement.lastPromiseValue);\n",
              "  return Promise.resolve(next.value.promise).then((value) => {\n",
              "    // Cache the last promise value to make it available to the next\n",
              "    // step of the generator.\n",
              "    outputElement.lastPromiseValue = value;\n",
              "    return next.value.response;\n",
              "  });\n",
              "}\n",
              "\n",
              "/**\n",
              " * Generator function which is called between each async step of the upload\n",
              " * process.\n",
              " * @param {string} inputId Element ID of the input file picker element.\n",
              " * @param {string} outputId Element ID of the output display.\n",
              " * @return {!Iterable<!Object>} Iterable of next steps.\n",
              " */\n",
              "function* uploadFilesStep(inputId, outputId) {\n",
              "  const inputElement = document.getElementById(inputId);\n",
              "  inputElement.disabled = false;\n",
              "\n",
              "  const outputElement = document.getElementById(outputId);\n",
              "  outputElement.innerHTML = '';\n",
              "\n",
              "  const pickedPromise = new Promise((resolve) => {\n",
              "    inputElement.addEventListener('change', (e) => {\n",
              "      resolve(e.target.files);\n",
              "    });\n",
              "  });\n",
              "\n",
              "  const cancel = document.createElement('button');\n",
              "  inputElement.parentElement.appendChild(cancel);\n",
              "  cancel.textContent = 'Cancel upload';\n",
              "  const cancelPromise = new Promise((resolve) => {\n",
              "    cancel.onclick = () => {\n",
              "      resolve(null);\n",
              "    };\n",
              "  });\n",
              "\n",
              "  // Wait for the user to pick the files.\n",
              "  const files = yield {\n",
              "    promise: Promise.race([pickedPromise, cancelPromise]),\n",
              "    response: {\n",
              "      action: 'starting',\n",
              "    }\n",
              "  };\n",
              "\n",
              "  cancel.remove();\n",
              "\n",
              "  // Disable the input element since further picks are not allowed.\n",
              "  inputElement.disabled = true;\n",
              "\n",
              "  if (!files) {\n",
              "    return {\n",
              "      response: {\n",
              "        action: 'complete',\n",
              "      }\n",
              "    };\n",
              "  }\n",
              "\n",
              "  for (const file of files) {\n",
              "    const li = document.createElement('li');\n",
              "    li.append(span(file.name, {fontWeight: 'bold'}));\n",
              "    li.append(span(\n",
              "        `(${file.type || 'n/a'}) - ${file.size} bytes, ` +\n",
              "        `last modified: ${\n",
              "            file.lastModifiedDate ? file.lastModifiedDate.toLocaleDateString() :\n",
              "                                    'n/a'} - `));\n",
              "    const percent = span('0% done');\n",
              "    li.appendChild(percent);\n",
              "\n",
              "    outputElement.appendChild(li);\n",
              "\n",
              "    const fileDataPromise = new Promise((resolve) => {\n",
              "      const reader = new FileReader();\n",
              "      reader.onload = (e) => {\n",
              "        resolve(e.target.result);\n",
              "      };\n",
              "      reader.readAsArrayBuffer(file);\n",
              "    });\n",
              "    // Wait for the data to be ready.\n",
              "    let fileData = yield {\n",
              "      promise: fileDataPromise,\n",
              "      response: {\n",
              "        action: 'continue',\n",
              "      }\n",
              "    };\n",
              "\n",
              "    // Use a chunked sending to avoid message size limits. See b/62115660.\n",
              "    let position = 0;\n",
              "    do {\n",
              "      const length = Math.min(fileData.byteLength - position, MAX_PAYLOAD_SIZE);\n",
              "      const chunk = new Uint8Array(fileData, position, length);\n",
              "      position += length;\n",
              "\n",
              "      const base64 = btoa(String.fromCharCode.apply(null, chunk));\n",
              "      yield {\n",
              "        response: {\n",
              "          action: 'append',\n",
              "          file: file.name,\n",
              "          data: base64,\n",
              "        },\n",
              "      };\n",
              "\n",
              "      let percentDone = fileData.byteLength === 0 ?\n",
              "          100 :\n",
              "          Math.round((position / fileData.byteLength) * 100);\n",
              "      percent.textContent = `${percentDone}% done`;\n",
              "\n",
              "    } while (position < fileData.byteLength);\n",
              "  }\n",
              "\n",
              "  // All done.\n",
              "  yield {\n",
              "    response: {\n",
              "      action: 'complete',\n",
              "    }\n",
              "  };\n",
              "}\n",
              "\n",
              "scope.google = scope.google || {};\n",
              "scope.google.colab = scope.google.colab || {};\n",
              "scope.google.colab._files = {\n",
              "  _uploadFiles,\n",
              "  _uploadFilesContinue,\n",
              "};\n",
              "})(self);\n",
              "</script> "
            ]
          },
          "metadata": {}
        },
        {
          "output_type": "stream",
          "name": "stdout",
          "text": [
            "Saving While-loop-diagram.svg to While-loop-diagram.svg\n"
          ]
        }
      ]
    },
    {
      "cell_type": "code",
      "source": [
        "from IPython.display import SVG\n",
        "\n",
        "SVG(filename=\"While-loop-diagram.svg\")\n"
      ],
      "metadata": {
        "colab": {
          "base_uri": "https://localhost:8080/",
          "height": 365
        },
        "id": "KRHJsToyrXbx",
        "outputId": "c0a0f635-b7c7-4803-8b21-0aefa73d62d1"
      },
      "execution_count": null,
      "outputs": [
        {
          "output_type": "execute_result",
          "data": {
            "text/plain": [
              "<IPython.core.display.SVG object>"
            ],
            "image/svg+xml": "<svg xmlns:dc=\"http://purl.org/dc/elements/1.1/\" xmlns:cc=\"http://creativecommons.org/ns#\" xmlns:rdf=\"http://www.w3.org/1999/02/22-rdf-syntax-ns#\" xmlns:svg=\"http://www.w3.org/2000/svg\" xmlns=\"http://www.w3.org/2000/svg\" xmlns:sodipodi=\"http://sodipodi.sourceforge.net/DTD/sodipodi-0.dtd\" xmlns:inkscape=\"http://www.inkscape.org/namespaces/inkscape\" width=\"270.95624\" height=\"343.05521\" id=\"svg3843\" version=\"1.1\" inkscape:version=\"0.48.1 \" sodipodi:docname=\"New document 4\">\n  <defs id=\"defs3845\">\n    <marker inkscape:stockid=\"Arrow2Mstart\" orient=\"auto\" refY=\"0\" refX=\"0\" id=\"Arrow2Mstart\" style=\"overflow:visible\">\n      <path id=\"path4483\" style=\"font-size:12px;fill-rule:evenodd;stroke-width:0.625;stroke-linejoin:round\" d=\"M 8.7185878,4.0337352 -2.2072895,0.01601326 8.7185884,-4.0017078 c -1.7454984,2.3720609 -1.7354408,5.6174519 -6e-7,8.035443 z\" transform=\"scale(0.6,0.6)\" inkscape:connector-curvature=\"0\"/>\n    </marker>\n    <marker inkscape:stockid=\"Arrow2Mend\" orient=\"auto\" refY=\"0\" refX=\"0\" id=\"Arrow2Mend\" style=\"overflow:visible\">\n      <path id=\"path4486\" style=\"font-size:12px;fill-rule:evenodd;stroke-width:0.625;stroke-linejoin:round\" d=\"M 8.7185878,4.0337352 -2.2072895,0.01601326 8.7185884,-4.0017078 c -1.7454984,2.3720609 -1.7354408,5.6174519 -6e-7,8.035443 z\" transform=\"scale(-0.6,-0.6)\" inkscape:connector-curvature=\"0\"/>\n    </marker>\n    <marker inkscape:stockid=\"Arrow2Lend\" orient=\"auto\" refY=\"0\" refX=\"0\" id=\"Arrow2Lend\" style=\"overflow:visible\">\n      <path id=\"path4480\" style=\"font-size:12px;fill-rule:evenodd;stroke-width:0.625;stroke-linejoin:round\" d=\"M 8.7185878,4.0337352 -2.2072895,0.01601326 8.7185884,-4.0017078 c -1.7454984,2.3720609 -1.7354408,5.6174519 -6e-7,8.035443 z\" transform=\"matrix(-1.1,0,0,-1.1,-1.1,0)\" inkscape:connector-curvature=\"0\"/>\n    </marker>\n  </defs>\n  <sodipodi:namedview id=\"base\" pagecolor=\"#ffffff\" bordercolor=\"#666666\" borderopacity=\"1.0\" inkscape:pageopacity=\"0.0\" inkscape:pageshadow=\"2\" inkscape:zoom=\"1.4\" inkscape:cx=\"108.89894\" inkscape:cy=\"187.39492\" inkscape:document-units=\"px\" inkscape:current-layer=\"layer1\" showgrid=\"false\" showguides=\"true\" inkscape:guide-bbox=\"true\" fit-margin-top=\"0\" fit-margin-left=\"0\" fit-margin-right=\"0\" fit-margin-bottom=\"0\" inkscape:window-width=\"1366\" inkscape:window-height=\"718\" inkscape:window-x=\"-8\" inkscape:window-y=\"-8\" inkscape:window-maximized=\"1\"/>\n  <metadata id=\"metadata3848\">\n    <rdf:RDF>\n      <cc:Work rdf:about=\"\">\n        <dc:format>image/svg+xml</dc:format>\n        <dc:type rdf:resource=\"http://purl.org/dc/dcmitype/StillImage\"/>\n        <dc:title/>\n      </cc:Work>\n    </rdf:RDF>\n  </metadata>\n  <g inkscape:label=\"Layer 1\" inkscape:groupmode=\"layer\" id=\"layer1\" transform=\"translate(-2.7024307,-30.379936)\">\n    <rect style=\"fill:none;stroke:#000000;stroke-width:1.56000888;stroke-miterlimit:4;stroke-opacity:1;stroke-dasharray:none\" id=\"rect3851\" width=\"71.314697\" height=\"71.314697\" x=\"-88.242416\" y=\"199.35966\" transform=\"matrix(0.80730846,-0.59012969,0.80730846,0.59012969,0,0)\"/>\n    <rect style=\"fill:none;stroke:#000000;stroke-width:1.78107238;stroke-miterlimit:4;stroke-opacity:1;stroke-dasharray:none\" id=\"rect3853\" width=\"135.36151\" height=\"48.852272\" x=\"79.598099\" y=\"298.75577\" ry=\"24.426136\" rx=\"25.443893\"/>\n    <path style=\"fill:none;stroke:#000000;stroke-width:1.78107238;stroke-linecap:butt;stroke-linejoin:miter;stroke-miterlimit:4;stroke-opacity:1;stroke-dasharray:none;marker-start:url(#Arrow2Mstart)\" d=\"m 90.28453,169.50081 -46.816761,0 0,155.20775 37.656958,0\" id=\"path3932\" inkscape:connector-curvature=\"0\" sodipodi:nodetypes=\"cccc\"/>\n    <g id=\"g4448\" transform=\"matrix(0.35621449,0,0,0.35621449,102.29405,306.05638)\">\n      <path sodipodi:type=\"arc\" style=\"fill:#ffffff;fill-opacity:1;stroke:#000000;stroke-width:4.46428585;stroke-miterlimit:4;stroke-opacity:1;stroke-dasharray:none\" id=\"path4444\" sodipodi:cx=\"393.57144\" sodipodi:cy=\"194.50504\" sodipodi:rx=\"53.57143\" sodipodi:ry=\"53.57143\" d=\"m 447.14287,194.50504 c 0,29.58668 -23.98474,53.57143 -53.57143,53.57143 -29.58668,0 -53.57143,-23.98475 -53.57143,-53.57143 0,-29.58669 23.98475,-53.57143 53.57143,-53.57143 29.58669,0 53.57143,23.98474 53.57143,53.57143 z\" transform=\"matrix(1.12,0,0,1.12,-22.228571,-91.197747)\"/>\n      <path transform=\"matrix(0.84,0,0,0.84,87.971433,-36.736337)\" d=\"m 447.14287,194.50504 c 0,29.58668 -23.98474,53.57143 -53.57143,53.57143 -29.58668,0 -53.57143,-23.98475 -53.57143,-53.57143 0,-29.58669 23.98475,-53.57143 53.57143,-53.57143 29.58669,0 53.57143,23.98474 53.57143,53.57143 z\" sodipodi:ry=\"53.57143\" sodipodi:rx=\"53.57143\" sodipodi:cy=\"194.50504\" sodipodi:cx=\"393.57144\" id=\"path3934\" style=\"fill:#000000;fill-opacity:1;stroke:none\" sodipodi:type=\"arc\"/>\n    </g>\n    <path transform=\"matrix(0.29922017,0,0,0.29922017,29.514342,14.635379)\" d=\"m 447.14287,194.50504 c 0,29.58668 -23.98474,53.57143 -53.57143,53.57143 -29.58668,0 -53.57143,-23.98475 -53.57143,-53.57143 0,-29.58669 23.98475,-53.57143 53.57143,-53.57143 29.58669,0 53.57143,23.98474 53.57143,53.57143 z\" sodipodi:ry=\"53.57143\" sodipodi:rx=\"53.57143\" sodipodi:cy=\"194.50504\" sodipodi:cx=\"393.57144\" id=\"path4446\" style=\"fill:#000000;fill-opacity:1;stroke:none\" sodipodi:type=\"arc\"/>\n    <path style=\"fill:none;stroke:#000000;stroke-width:1.78107238;stroke-linecap:butt;stroke-linejoin:miter;stroke-miterlimit:4;stroke-opacity:1;stroke-dasharray:none;marker-end:url(#Arrow2Mend)\" d=\"m 147.26174,70.227704 0,54.694306\" id=\"path4452\" inkscape:connector-curvature=\"0\"/>\n    <path inkscape:connector-curvature=\"0\" id=\"path5086\" d=\"m 147.26174,210.16911 0,86.75361\" style=\"fill:none;stroke:#000000;stroke-width:1.78107238;stroke-linecap:butt;stroke-linejoin:miter;stroke-miterlimit:4;stroke-opacity:1;stroke-dasharray:none;marker-end:url(#Arrow2Mend)\" sodipodi:nodetypes=\"cc\"/>\n    <path sodipodi:nodetypes=\"ccc\" inkscape:connector-curvature=\"0\" id=\"path5460\" d=\"m 251.5988,327.25295 0.50888,-158.26101 -47.32564,0\" style=\"fill:none;stroke:#000000;stroke-width:1.78107238;stroke-linecap:butt;stroke-linejoin:miter;stroke-miterlimit:4;stroke-opacity:1;stroke-dasharray:none;marker-start:url(#Arrow2Mstart)\"/>\n    <text xml:space=\"preserve\" style=\"font-size:14.91969013px;font-style:normal;font-variant:normal;font-weight:normal;font-stretch:normal;text-align:start;line-height:125%;letter-spacing:0px;word-spacing:0px;writing-mode:lr-tb;text-anchor:start;fill:#000000;fill-opacity:1;stroke:none;font-family:Liberation Sans;-inkscape-font-specification:Liberation Sans\" x=\"8.7024307\" y=\"47.190884\" id=\"text5462\" sodipodi:linespacing=\"125%\"><tspan sodipodi:role=\"line\" id=\"tspan5464\" x=\"8.7024307\" y=\"47.190884\">While (A = TRUE) Do</tspan><tspan sodipodi:role=\"line\" x=\"8.7024307\" y=\"65.8405\" id=\"tspan5466\">    B</tspan><tspan sodipodi:role=\"line\" x=\"8.7024307\" y=\"84.490112\" id=\"tspan5468\">End While</tspan></text>\n    <text xml:space=\"preserve\" style=\"font-size:14.24857903px;font-style:normal;font-variant:normal;font-weight:normal;font-stretch:normal;text-align:start;line-height:125%;letter-spacing:0px;word-spacing:0px;writing-mode:lr-tb;text-anchor:start;fill:#000000;fill-opacity:1;stroke:none;font-family:Liberation Sans;-inkscape-font-specification:Liberation Sans\" x=\"142.31828\" y=\"328.08334\" id=\"text5470\" sodipodi:linespacing=\"125%\"><tspan sodipodi:role=\"line\" id=\"tspan5472\" x=\"142.31828\" y=\"328.08334\">B</tspan></text>\n    <text sodipodi:linespacing=\"125%\" id=\"text5474\" y=\"174.62396\" x=\"142.52701\" style=\"font-size:14.24857903px;font-style:normal;font-variant:normal;font-weight:normal;font-stretch:normal;text-align:start;line-height:125%;letter-spacing:0px;word-spacing:0px;writing-mode:lr-tb;text-anchor:start;fill:#000000;fill-opacity:1;stroke:none;font-family:Liberation Sans;-inkscape-font-specification:Liberation Sans\" xml:space=\"preserve\"><tspan y=\"174.62396\" x=\"142.52701\" id=\"tspan5476\" sodipodi:role=\"line\">A</tspan></text>\n    <text xml:space=\"preserve\" style=\"font-size:14.24857903px;font-style:normal;font-variant:normal;font-weight:normal;font-stretch:normal;text-align:start;line-height:125%;letter-spacing:0px;word-spacing:0px;writing-mode:lr-tb;text-anchor:start;fill:#000000;fill-opacity:1;stroke:none;font-family:Liberation Sans;-inkscape-font-specification:Liberation Sans\" x=\"97.344177\" y=\"257.46564\" id=\"text5478\" sodipodi:linespacing=\"125%\"><tspan sodipodi:role=\"line\" id=\"tspan5480\" x=\"97.344177\" y=\"257.46564\">TRUE</tspan></text>\n    <text sodipodi:linespacing=\"125%\" id=\"text5482\" y=\"162.88541\" x=\"210.31505\" style=\"font-size:14.24857903px;font-style:normal;font-variant:normal;font-weight:normal;font-stretch:normal;text-align:start;line-height:125%;letter-spacing:0px;word-spacing:0px;writing-mode:lr-tb;text-anchor:start;fill:#000000;fill-opacity:1;stroke:none;font-family:Liberation Sans;-inkscape-font-specification:Liberation Sans\" xml:space=\"preserve\"><tspan y=\"162.88541\" x=\"210.31505\" id=\"tspan5484\" sodipodi:role=\"line\">FALSE</tspan></text>\n  </g>\n</svg>"
          },
          "metadata": {},
          "execution_count": 5
        }
      ]
    },
    {
      "cell_type": "markdown",
      "source": [
        "-----------------------------------------------\n",
        "\n",
        "**Bölüm 3: Algoritma Soruları**\n"
      ],
      "metadata": {
        "id": "whyWLA8Erm8V"
      }
    },
    {
      "cell_type": "markdown",
      "source": [
        "### **Soru 1: Sayıların Toplamı**\n",
        "- **Soru:** Kullanıcıdan iki tam sayı alın ve toplamını ekrana yazdırın.\n",
        "- **Yapı:** Temel giriş/çıkış.\n",
        "\n",
        "> **Not:** Kullanıcıdan alınan iki tam sayının toplamı ekrana yazdırılacaktır.\n"
      ],
      "metadata": {
        "id": "Zmqm51ZuroLO"
      }
    },
    {
      "cell_type": "code",
      "source": [
        "sayi1 = int(input(\"Birinci sayıyı girin: \"))\n",
        "sayi2 = int(input(\"İkinci sayıyı girin: \"))\n",
        "toplam = sayi1 + sayi2\n",
        "print(\"Toplam:\", toplam)"
      ],
      "metadata": {
        "colab": {
          "base_uri": "https://localhost:8080/"
        },
        "id": "mD0iC780renF",
        "outputId": "5f63e314-fe39-4af6-a685-0436e660fb03"
      },
      "execution_count": null,
      "outputs": [
        {
          "output_type": "stream",
          "name": "stdout",
          "text": [
            "Birinci sayıyı girin: 4\n",
            "İkinci sayıyı girin: 3\n",
            "Toplam: 7\n"
          ]
        }
      ]
    },
    {
      "cell_type": "markdown",
      "source": [
        "### **Soru 2: Pozitif veya Negatif**\n",
        "- **Soru:** Kullanıcıdan bir tam sayı alın. Pozitifse **\"Pozitif\"**, negatifse **\"Negatif\"**, sıfırsa **\"Sıfır\"** yazdırın.\n",
        "- **Yapı:** if-else.\n"
      ],
      "metadata": {
        "id": "4AOzql87rvd1"
      }
    },
    {
      "cell_type": "code",
      "source": [
        "sayi = int(input(\"Bir sayı girin: \"))\n",
        "\n",
        "if sayi > 0:\n",
        "    print(\"Pozitif\")\n",
        "elif sayi < 0:\n",
        "    print(\"Negatif\")\n",
        "else:\n",
        "    print(\"Sıfır\")\n"
      ],
      "metadata": {
        "colab": {
          "base_uri": "https://localhost:8080/"
        },
        "id": "9qo2OxPnrsok",
        "outputId": "7e8b87c5-d7b2-4b21-a7d3-d8d6c018c5c6"
      },
      "execution_count": null,
      "outputs": [
        {
          "output_type": "stream",
          "name": "stdout",
          "text": [
            "Bir sayı girin: 4\n",
            "Pozitif\n"
          ]
        }
      ]
    },
    {
      "cell_type": "markdown",
      "source": [
        "### **Soru 3: En Büyük Sayı**\n",
        "- **Soru:** Kullanıcıdan üç tam sayı alın ve en büyüğünü ekrana yazdırın.\n",
        "- **Yapı:** if-else.\n"
      ],
      "metadata": {
        "id": "MtRtHMeLr5zL"
      }
    },
    {
      "cell_type": "code",
      "source": [
        "sayi1 = int(input(\"Birinci sayıyı girin: \"))\n",
        "sayi2 = int(input(\"İkinci sayıyı girin: \"))\n",
        "sayi3 = int(input(\"Üçüncü sayıyı girin: \"))\n",
        "\n",
        "en_buyuk = max(sayi1, sayi2, sayi3)\n",
        "print(\"En büyük sayı:\", en_buyuk)\n"
      ],
      "metadata": {
        "colab": {
          "base_uri": "https://localhost:8080/"
        },
        "id": "jvPNtezhsQ-p",
        "outputId": "3fa4e75c-1bdc-4f8a-f2d0-154a1be20f00"
      },
      "execution_count": null,
      "outputs": [
        {
          "output_type": "stream",
          "name": "stdout",
          "text": [
            "Birinci sayıyı girin: 4\n",
            "İkinci sayıyı girin: 6\n",
            "Üçüncü sayıyı girin: 7\n",
            "En büyük sayı: 7\n"
          ]
        }
      ]
    },
    {
      "cell_type": "markdown",
      "source": [
        "### **Soru 4: Çift veya Tek**\n",
        "- **Soru:** Kullanıcıdan bir tam sayı alın ve çift mi tek mi olduğunu yazdırın.\n",
        "- **Yapı:** if-else.\n"
      ],
      "metadata": {
        "id": "Rec3PHe9sXsP"
      }
    },
    {
      "cell_type": "code",
      "source": [
        "sayi = int(input(\"Bir sayı girin: \"))\n",
        "\n",
        "if sayi % 2 == 0:\n",
        "    print(\"Çift\")\n",
        "else:\n",
        "    print(\"Tek\")\n"
      ],
      "metadata": {
        "colab": {
          "base_uri": "https://localhost:8080/"
        },
        "id": "Cio_OFvrschO",
        "outputId": "51f4c98a-a4d4-4b11-92b9-f5c66c1ba415"
      },
      "execution_count": null,
      "outputs": [
        {
          "output_type": "stream",
          "name": "stdout",
          "text": [
            "Bir sayı girin: 3\n",
            "Tek\n"
          ]
        }
      ]
    },
    {
      "cell_type": "markdown",
      "source": [
        "### **Soru 5: Haftanın Günü**\n",
        "- **Soru:** Kullanıcıdan 1-7 arası bir sayı alın ve haftanın gününü yazdırın (1: Pazartesi, ..., 7: Pazar). Geçersizse “Geçersiz gün” yazdırın.\n",
        "- **Yapı:** match-case.\n"
      ],
      "metadata": {
        "id": "uOPWLRsusjeK"
      }
    },
    {
      "cell_type": "code",
      "source": [
        "sayi = int(input(\"1-7 arası bir sayı girin: \"))\n",
        "\n",
        "match(sayi):\n",
        "    case 1:\n",
        "        print(\"Pazartesi\")\n",
        "    case 2:\n",
        "        print(\"Salı\")\n",
        "    case 3:\n",
        "        print(\"Çarşamba\")\n",
        "    case 4:\n",
        "        print(\"Perşembe\")\n",
        "    case 5:\n",
        "        print(\"Cuma\")\n",
        "    case 6:\n",
        "        print(\"Cumartesi\")\n",
        "    case 7:\n",
        "        print(\"Pazar\")\n",
        "    case _:\n",
        "        print(\"Geçersiz gün\")\n",
        "\n",
        "\n",
        "\n"
      ],
      "metadata": {
        "colab": {
          "base_uri": "https://localhost:8080/"
        },
        "id": "ACKaIn0fsj1S",
        "outputId": "0d7fe4cb-58ae-4299-f3b5-c0bb62fed868"
      },
      "execution_count": null,
      "outputs": [
        {
          "output_type": "stream",
          "name": "stdout",
          "text": [
            "1-7 arası bir sayı girin: 4\n",
            "Perşembe\n"
          ]
        }
      ]
    },
    {
      "cell_type": "markdown",
      "source": [
        "### **Soru 6: Basit Hesap Makinesi**\n",
        "- **Soru:** Kullanıcıdan iki tam sayı ve bir işlem (+, -, *, /) alın. Sonucu yazdırın.\n",
        "- **Yapı:** `match-case`\n"
      ],
      "metadata": {
        "id": "Xy9ApeBCuEaU"
      }
    },
    {
      "cell_type": "code",
      "source": [
        "int1 = input(\"Birinci sayıyı girin: \")\n",
        "int2 = input(\"İkinci sayıyı girin: \")\n",
        "islem = input(\"İşlemi girin (+, -, *, /): \")\n",
        "\n",
        "match(islem):\n",
        "    case \"+\":\n",
        "        print(int(int1) + int(int2))\n",
        "    case \"-\":\n",
        "        print(int(int1) - int(int2))\n",
        "    case \"*\":\n",
        "        print(int(int1) * int(int2))\n",
        "    case \"/\":\n",
        "        print(int(int1) / int(int2))\n",
        "\n",
        "    case _:\n",
        "        print(\"Geçersiz işlem\")"
      ],
      "metadata": {
        "colab": {
          "base_uri": "https://localhost:8080/"
        },
        "id": "4Kd1lUv3uE8z",
        "outputId": "3b25ed98-2e58-4b26-f7ea-ddf158d70301"
      },
      "execution_count": null,
      "outputs": [
        {
          "output_type": "stream",
          "name": "stdout",
          "text": [
            "Birinci sayıyı girin: 4\n",
            "İkinci sayıyı girin: 6\n",
            "İşlemi girin (+, -, *, /): r\n",
            "Geçersiz işlem\n"
          ]
        }
      ]
    },
    {
      "cell_type": "markdown",
      "source": [
        "### **Soru 7: 1’den N’e Kadar Toplam**\n",
        "- **Soru:** Kullanıcıdan bir N sayısı alın ve 1’den N’e kadar toplamı yazdırın.\n",
        "- **Yapı:** `for` döngüsü\n"
      ],
      "metadata": {
        "id": "0iWjBH9uuctF"
      }
    },
    {
      "cell_type": "code",
      "source": [
        "sayi = int(input(\"Bir sayı girin: \"))\n",
        "toplam = 0\n",
        "\n",
        "for i in range(1, sayi + 1):\n",
        "    toplam += i\n",
        "\n",
        "print(\"1'den\", sayi, \"ye kadar olan sayıların toplamı:\", toplam)"
      ],
      "metadata": {
        "colab": {
          "base_uri": "https://localhost:8080/"
        },
        "id": "NUSjmORJudEV",
        "outputId": "be212acc-6647-454a-c507-c0aa0b52d862"
      },
      "execution_count": null,
      "outputs": [
        {
          "output_type": "stream",
          "name": "stdout",
          "text": [
            "Bir sayı girin: 4\n",
            "1'den 4 ye kadar olan sayıların toplamı: 10\n"
          ]
        }
      ]
    },
    {
      "cell_type": "markdown",
      "source": [
        "### **Soru 8: Çarpım Tablosu**\n",
        "- **Soru:** Kullanıcıdan bir sayı alın ve 1-10 arası çarpım tablosunu yazdırın.\n",
        "- **Yapı:** `for` döngüsü\n"
      ],
      "metadata": {
        "id": "mikxK9shunu0"
      }
    },
    {
      "cell_type": "code",
      "source": [
        "sayi = input(\"Bir sayı giriniz(1-10): \")\n",
        "\n",
        "for i in range(1,10):\n",
        "    print(sayi, \"x\", i, \"=\", int(sayi) * i)"
      ],
      "metadata": {
        "colab": {
          "base_uri": "https://localhost:8080/"
        },
        "id": "kpn6pkmQuoBQ",
        "outputId": "3b6f1419-e95f-43b0-dbdf-c98f6db18176"
      },
      "execution_count": null,
      "outputs": [
        {
          "output_type": "stream",
          "name": "stdout",
          "text": [
            "Bir sayı giriniz(1-10): 3\n",
            "3 x 1 = 3\n",
            "3 x 2 = 6\n",
            "3 x 3 = 9\n",
            "3 x 4 = 12\n",
            "3 x 5 = 15\n",
            "3 x 6 = 18\n",
            "3 x 7 = 21\n",
            "3 x 8 = 24\n",
            "3 x 9 = 27\n"
          ]
        }
      ]
    },
    {
      "cell_type": "markdown",
      "source": [
        "### **Soru 9: Sayıların Ortalaması**\n",
        "- **Soru:** Kullanıcıdan 5 tam sayı alın ve ortalamayı yazdırın.\n",
        "- **Yapı:** `for` döngüsü\n"
      ],
      "metadata": {
        "id": "5SUzeF77v6bt"
      }
    },
    {
      "cell_type": "code",
      "source": [
        "toplam = 0\n",
        "\n",
        "print(\"Lütfen 5 sayı giriniz:\\n\" + \"-\" * 30)\n",
        "\n",
        "for i in range(5):\n",
        "    sayi = int(input(f\"{i+1}. Sayıyı giriniz: \"))\n",
        "    toplam += sayi\n",
        "\n",
        "    if i < 4:\n",
        "        print(f\"Kalan sayı hakkınız: {4-i}\\n\" + \"-\" * 30)\n",
        "\n",
        "print(\"\\nTüm sayılar girildi, işlem tamamlandı!\")\n",
        "print(f\"Ortalamanız: {toplam / 5:.2f}\")\n"
      ],
      "metadata": {
        "colab": {
          "base_uri": "https://localhost:8080/"
        },
        "id": "Y7LQKLzzv62-",
        "outputId": "9dfbcea5-8e89-4f9e-cfad-247d4dcc521a"
      },
      "execution_count": null,
      "outputs": [
        {
          "output_type": "stream",
          "name": "stdout",
          "text": [
            "Lütfen 5 sayı giriniz:\n",
            "------------------------------\n",
            "1. Sayıyı giriniz: 4\n",
            "Kalan sayı hakkınız: 4\n",
            "------------------------------\n",
            "2. Sayıyı giriniz: 6\n",
            "Kalan sayı hakkınız: 3\n",
            "------------------------------\n",
            "3. Sayıyı giriniz: 3\n",
            "Kalan sayı hakkınız: 2\n",
            "------------------------------\n",
            "4. Sayıyı giriniz: 6\n",
            "Kalan sayı hakkınız: 1\n",
            "------------------------------\n",
            "5. Sayıyı giriniz: 5\n",
            "\n",
            "Tüm sayılar girildi, işlem tamamlandı!\n",
            "Ortalamanız: 4.80\n"
          ]
        }
      ]
    },
    {
      "cell_type": "markdown",
      "source": [
        "### **Soru 10: Asal Sayı Kontrolü**\n",
        "- **Soru:** Kullanıcıdan bir sayı alın ve asal olup olmadığını yazdırın.\n",
        "- **Yapı:** `for` döngüsü ve `if-else`\n"
      ],
      "metadata": {
        "id": "0yZq-6A0xnXo"
      }
    },
    {
      "cell_type": "code",
      "source": [
        "def asal_sayi_kontrolu():\n",
        "    try:\n",
        "        sayi = int(input(\"Bir sayı girin: \"))\n",
        "\n",
        "        if sayi < 2:\n",
        "            print(f\"{sayi} asal bir sayı değildir.\")\n",
        "            return\n",
        "\n",
        "        for i in range(2, int(sayi ** 0.5) + 1):\n",
        "            if sayi % i == 0:\n",
        "                print(f\"{sayi} asal bir sayı değildir.\")\n",
        "                return\n",
        "\n",
        "        print(f\"{sayi} asal bir sayıdır.\")\n",
        "\n",
        "    except ValueError:\n",
        "        print(\"Hata: Lütfen geçerli bir tam sayı girin!\")\n",
        "\n",
        "asal_sayi_kontrolu()\n"
      ],
      "metadata": {
        "colab": {
          "base_uri": "https://localhost:8080/"
        },
        "id": "gIvEk3cTxTuz",
        "outputId": "1108a986-ad30-4a12-f44f-a2c8e4d3bb5e"
      },
      "execution_count": null,
      "outputs": [
        {
          "output_type": "stream",
          "name": "stdout",
          "text": [
            "Bir sayı girin: 3\n",
            "3 asal bir sayıdır.\n"
          ]
        }
      ]
    },
    {
      "cell_type": "markdown",
      "source": [
        "### **Soru 11: Faktöriyel Hesaplama**\n",
        "- **Soru:** Kullanıcıdan bir sayı alın ve faktöriyelini yazdırın.\n",
        "- **Yapı:** `while` döngüsü\n"
      ],
      "metadata": {
        "id": "bdnUdTU0x3q_"
      }
    },
    {
      "cell_type": "code",
      "source": [
        "def faktoriyel_hesapla():\n",
        "    try:\n",
        "        sayi = int(input(\"Bir sayı girin: \"))\n",
        "\n",
        "        if sayi < 0:\n",
        "            print(\"Hata: Negatif sayıların faktöriyeli hesaplanamaz.\")\n",
        "            return\n",
        "\n",
        "        faktoriyel = 1\n",
        "        temp = sayi\n",
        "\n",
        "        while temp > 1:\n",
        "            faktoriyel *= temp\n",
        "            temp -= 1\n",
        "\n",
        "        print(f\"{sayi}! = {faktoriyel}\")\n",
        "\n",
        "    except ValueError:\n",
        "        print(\"Hata: Lütfen geçerli bir tam sayı girin!\")\n",
        "\n",
        "faktoriyel_hesapla()\n"
      ],
      "metadata": {
        "colab": {
          "base_uri": "https://localhost:8080/"
        },
        "id": "7tL-t1eLxKrV",
        "outputId": "fda58b52-8bd4-4cca-ea4a-5445b38297c2"
      },
      "execution_count": null,
      "outputs": [
        {
          "output_type": "stream",
          "name": "stdout",
          "text": [
            "Bir sayı girin: 4\n",
            "4! = 24\n"
          ]
        }
      ]
    },
    {
      "cell_type": "markdown",
      "source": [
        "### **Soru 12: Sayı Tahmin Oyunu**\n",
        "- **Soru:** 1-100 arası rastgele bir sayı tutun ve kullanıcıdan tahmin alın. Her tahminde yönlendirme yaparak doğru tahmini bulmasını sağlayın.\n",
        "- **Yapı:** `while` döngüsü ve `if-else`\n"
      ],
      "metadata": {
        "id": "IxrAMr7NyY2c"
      }
    },
    {
      "cell_type": "code",
      "source": [
        "import random\n",
        "\n",
        "def sayi_tahmin_oyunu():\n",
        "    tutulan_sayi = random.randint(1,101)\n",
        "\n",
        "    tahmin = int(input(\"1 ile 100 arasında bir sayı tahmin edin: \"))\n",
        "\n",
        "    while tahmin != tutulan_sayi:\n",
        "        if tahmin < tutulan_sayi:\n",
        "            print(\"Daha yüksek bir sayı tahmin edin\")\n",
        "            tahmin = int(input(\"Tahmininizi güncelleyin: \"))\n",
        "        else:\n",
        "            print(\"Daha düşük bir sayı tahmin edin\")\n",
        "            tahmin = int(input(\"Tahmininizi güncelleyin: \"))\n",
        "\n",
        "    print(\"Tebrikler! Doğru tahmin!\")\n",
        "\n",
        "sayi_tahmin_oyunu()\n"
      ],
      "metadata": {
        "colab": {
          "base_uri": "https://localhost:8080/"
        },
        "id": "xON7Edruw_Y7",
        "outputId": "62767a13-b381-4f71-ead7-8c484da31f20"
      },
      "execution_count": null,
      "outputs": [
        {
          "output_type": "stream",
          "name": "stdout",
          "text": [
            "1 ile 100 arasında bir sayı tahmin edin25\n",
            "Daha yüksek bir sayı tahmin edin\n",
            "Tahmininizi güncelleyin: 50\n",
            "Daha yüksek bir sayı tahmin edin\n",
            "Tahmininizi güncelleyin: 75\n",
            "Daha yüksek bir sayı tahmin edin\n",
            "Tahmininizi güncelleyin: 85\n",
            "Daha yüksek bir sayı tahmin edin\n",
            "Tahmininizi güncelleyin: 95\n",
            "Daha düşük bir sayı tahmin edin\n",
            "Tahmininizi güncelleyin: 90\n",
            "Daha yüksek bir sayı tahmin edin\n",
            "Tahmininizi güncelleyin: 92\n",
            "Tebrikler! Doğru tahmin!\n"
          ]
        }
      ]
    },
    {
      "cell_type": "markdown",
      "source": [
        "### **Soru 13: Fibonacci Serisi**\n",
        "- **Soru:** Kullanıcıdan bir N sayısı alın ve ilk N Fibonacci terimini yazdırın.\n",
        "- **Yapı:** `for` döngüsü\n"
      ],
      "metadata": {
        "id": "--n9LfWmzMdS"
      }
    },
    {
      "cell_type": "code",
      "source": [
        "def fibonacci_serisi():\n",
        "    try:\n",
        "        N = int(input(\"Kaç Fibonacci terimi görmek istiyorsunuz? \"))\n",
        "\n",
        "        if N <= 0:\n",
        "            print(\"Lütfen 1 veya daha büyük bir sayı girin.\")\n",
        "            return\n",
        "\n",
        "        fibonacci = [0, 1]\n",
        "\n",
        "        for _ in range(2, N):\n",
        "            fibonacci.append(fibonacci[-1] + fibonacci[-2])\n",
        "\n",
        "        print(\"Fibonacci Serisi:\", \" \".join(map(str, fibonacci[:N])))\n",
        "\n",
        "    except ValueError:\n",
        "        print(\"Lütfen geçerli bir tam sayı girin.\")\n",
        "\n",
        "fibonacci_serisi()\n"
      ],
      "metadata": {
        "colab": {
          "base_uri": "https://localhost:8080/"
        },
        "id": "GukfXA7LzNSI",
        "outputId": "c722ec2d-3037-4ab4-803e-de516692e051"
      },
      "execution_count": null,
      "outputs": [
        {
          "output_type": "stream",
          "name": "stdout",
          "text": [
            "Kaç Fibonacci terimi görmek istiyorsunuz? 3\n",
            "Fibonacci Serisi: 0 1 1\n"
          ]
        }
      ]
    },
    {
      "cell_type": "markdown",
      "source": [
        "### **Soru 14: Tersine Çevirme**\n",
        "- **Soru:** Kullanıcıdan bir sayı alın ve tersini yazdırın (örn. 1234 -> 4321).\n",
        "- **Yapı:** `while` döngüsü\n"
      ],
      "metadata": {
        "id": "A-2nsq6mzeuN"
      }
    },
    {
      "cell_type": "code",
      "source": [
        "def tersine_cevir():\n",
        "    try:\n",
        "        sayi = int(input(\"Bir sayı girin: \"))\n",
        "        ters_sayi = 0\n",
        "\n",
        "        while sayi > 0:\n",
        "            ters_sayi = ters_sayi * 10 + sayi % 10\n",
        "            sayi //= 10\n",
        "\n",
        "        print(f\"Sayının tersi: {ters_sayi}\")\n",
        "\n",
        "    except ValueError:\n",
        "        print(\"⚠ Lütfen geçerli bir tam sayı girin.\")\n",
        "\n",
        "tersine_cevir()\n"
      ],
      "metadata": {
        "colab": {
          "base_uri": "https://localhost:8080/"
        },
        "id": "s-AjK2vdzfI2",
        "outputId": "8252be99-1040-475a-801d-ab19b4715b30"
      },
      "execution_count": null,
      "outputs": [
        {
          "output_type": "stream",
          "name": "stdout",
          "text": [
            "Bir sayı girin: 5454\n",
            "Sayının tersi: 4545\n"
          ]
        }
      ]
    },
    {
      "cell_type": "markdown",
      "source": [
        "### **Soru 15: Armstrong Sayısı**\n",
        "- **Soru:** Kullanıcıdan bir sayı alın ve Armstrong sayısı olup olmadığını kontrol edin.\n",
        "- **Yapı:** `while` döngüsü ve `if-else`\n"
      ],
      "metadata": {
        "id": "gp6de4HU0Pu0"
      }
    },
    {
      "cell_type": "code",
      "source": [
        "def armstrong_kontrol():\n",
        "    try:\n",
        "        sayi = int(input(\"Bir sayı girin: \"))\n",
        "        basamak_sayisi = len(str(sayi))\n",
        "        toplam = 0\n",
        "        gecici_sayi = sayi\n",
        "\n",
        "        while gecici_sayi > 0:\n",
        "            basamak = gecici_sayi % 10\n",
        "            toplam += basamak ** basamak_sayisi\n",
        "            gecici_sayi //= 10\n",
        "\n",
        "        if toplam == sayi:\n",
        "            print(f\"{sayi} bir Armstrong sayısıdır!\")\n",
        "        else:\n",
        "            print(f\"{sayi} bir Armstrong sayısı değildir.\")\n",
        "\n",
        "    except ValueError:\n",
        "        print(\"⚠ Lütfen geçerli bir tam sayı girin.\")\n",
        "\n",
        "armstrong_kontrol()\n"
      ],
      "metadata": {
        "colab": {
          "base_uri": "https://localhost:8080/"
        },
        "id": "4KlOeEpK0QI9",
        "outputId": "ca6e7b63-5540-4245-acec-eb45d1c9a7b0"
      },
      "execution_count": null,
      "outputs": [
        {
          "output_type": "stream",
          "name": "stdout",
          "text": [
            "Bir sayı girin: 54\n",
            "54 bir Armstrong sayısı değildir.\n"
          ]
        }
      ]
    },
    {
      "cell_type": "markdown",
      "source": [
        "### **Soru 16: Çift Sayıların Toplamı**\n",
        "- **Soru:** 1-100 arası çift sayıların toplamını yazdırın.\n",
        "- **Yapı:** `for` döngüsü ve `if-else`\n"
      ],
      "metadata": {
        "id": "FuhcyxfM0kPD"
      }
    },
    {
      "cell_type": "code",
      "source": [
        "toplam = 0\n",
        "for i in range(100):\n",
        "  if i%2==0:\n",
        "    toplam += i\n",
        "\n",
        "print(toplam)"
      ],
      "metadata": {
        "colab": {
          "base_uri": "https://localhost:8080/"
        },
        "id": "IIkvxqQuzQbq",
        "outputId": "311e22de-f9a4-409e-e2b2-cc73c32981f1"
      },
      "execution_count": null,
      "outputs": [
        {
          "output_type": "stream",
          "name": "stdout",
          "text": [
            "2450\n"
          ]
        }
      ]
    },
    {
      "cell_type": "markdown",
      "source": [
        "### **Soru 17: Tek Sayıların Çarpımı**\n",
        "- **Soru:** 1-10 arası tek sayıların çarpımını yazdırın.\n",
        "- **Yapı:** `for` döngüsü ve `if-else`\n"
      ],
      "metadata": {
        "id": "S72Qlv4E0-iw"
      }
    },
    {
      "cell_type": "code",
      "source": [
        "carpim = 1\n",
        "\n",
        "for sayi in range(1, 11):\n",
        "      if sayi % 2 != 0:\n",
        "            carpim *= sayi\n",
        "\n",
        "print(f\"1-10 arasındaki tek sayıların çarpımı: {carpim}\")"
      ],
      "metadata": {
        "colab": {
          "base_uri": "https://localhost:8080/"
        },
        "id": "aQ4Be5dzyytR",
        "outputId": "48682ac7-9e7f-4d40-ff7d-443833d5c1fd"
      },
      "execution_count": null,
      "outputs": [
        {
          "output_type": "stream",
          "name": "stdout",
          "text": [
            "1-10 arasındaki tek sayıların çarpımı: 945\n"
          ]
        }
      ]
    },
    {
      "cell_type": "markdown",
      "source": [
        "### **Soru 18: Sayıların Karesi**\n",
        "- **Soru:** 1-10 arası sayıların karelerini yazdırın.\n",
        "- **Yapı:** `for` döngüsü\n"
      ],
      "metadata": {
        "id": "p2OTwDhz1Llc"
      }
    },
    {
      "cell_type": "code",
      "source": [
        "for sayi in range(1, 11):\n",
        "        print(f\"{sayi}² = {sayi**2}\")\n"
      ],
      "metadata": {
        "colab": {
          "base_uri": "https://localhost:8080/"
        },
        "id": "xmWcGlysyvxw",
        "outputId": "57b48a47-154c-420d-ded1-8d06bb6058aa"
      },
      "execution_count": null,
      "outputs": [
        {
          "output_type": "stream",
          "name": "stdout",
          "text": [
            "1² = 1\n",
            "2² = 4\n",
            "3² = 9\n",
            "4² = 16\n",
            "5² = 25\n",
            "6² = 36\n",
            "7² = 49\n",
            "8² = 64\n",
            "9² = 81\n",
            "10² = 100\n"
          ]
        }
      ]
    },
    {
      "cell_type": "markdown",
      "source": [
        "### **Soru 19: Basit Şifre Kontrolü**\n",
        "- **Soru:** Kullanıcıdan şifre alın. Şifre \"python123\" ise “Giriş başarılı” yazdırın, değilse “Giriş başarısız” yazdırın.\n",
        "- **Yapı:** `if-else`\n"
      ],
      "metadata": {
        "id": "SuPNHZ1D1WKx"
      }
    },
    {
      "cell_type": "code",
      "source": [
        "def sifre_kontrol():\n",
        "    sifre = input(\"Şifrenizi girin: \")\n",
        "\n",
        "    if sifre == \"python123\":\n",
        "        print(\"Giriş başarılı!\")\n",
        "    else:\n",
        "        print(\"Giriş başarısız, yanlış şifre!\")\n",
        "\n",
        "sifre_kontrol()\n"
      ],
      "metadata": {
        "colab": {
          "base_uri": "https://localhost:8080/"
        },
        "id": "DPlUqQW7vqpV",
        "outputId": "9d31c845-c2c4-4951-985d-a6a14f8d1c3a"
      },
      "execution_count": null,
      "outputs": [
        {
          "output_type": "stream",
          "name": "stdout",
          "text": [
            "Şifrenizi girin: python123\n",
            "Giriş başarılı!\n"
          ]
        }
      ]
    },
    {
      "cell_type": "markdown",
      "source": [
        "### **Soru 20: Yaş Kontrolü**\n",
        "- **Soru:** Kullanıcıdan yaş alın. 18’den büyükse “Reşit” yazdırın, değilse “Reşit değil” yazdırın.\n",
        "- **Yapı:** `if-else`\n"
      ],
      "metadata": {
        "id": "AoRtSbT-1bXd"
      }
    },
    {
      "cell_type": "code",
      "source": [
        "def yas_kontrol():\n",
        "    try:\n",
        "        yas = int(input(\"Yaşınızı girin: \"))\n",
        "\n",
        "        if yas >= 18:\n",
        "            print(\"Reşitsiniz.\")\n",
        "        else:\n",
        "            print(\"Reşit değilsiniz.\")\n",
        "\n",
        "    except ValueError:\n",
        "        print(\"Lütfen geçerli bir yaş girin.\")\n",
        "\n",
        "yas_kontrol()\n"
      ],
      "metadata": {
        "colab": {
          "base_uri": "https://localhost:8080/"
        },
        "id": "mKdcSDhSumvE",
        "outputId": "b04a005d-a496-4c05-a76d-416437379fa7"
      },
      "execution_count": null,
      "outputs": [
        {
          "output_type": "stream",
          "name": "stdout",
          "text": [
            "Yaşınızı girin: 43\n",
            "Reşitsiniz.\n"
          ]
        }
      ]
    },
    {
      "cell_type": "markdown",
      "source": [
        "### **Soru 21: Not Ortalaması**\n",
        "- **Soru:** Kullanıcıdan 3 ders notu alın ve ortalama 50’den büyükse “Geçti” yazdırın, değilse “Kaldı” yazdırın.\n",
        "- **Yapı:** `if-else`\n"
      ],
      "metadata": {
        "id": "8lKvCyVC1g8Y"
      }
    },
    {
      "cell_type": "code",
      "source": [
        "def not_ortalaması():\n",
        "    try:\n",
        "        not1 = float(input(\"1. ders notunu girin: \"))\n",
        "        not2 = float(input(\"2. ders notunu girin: \"))\n",
        "        not3 = float(input(\"3. ders notunu girin: \"))\n",
        "\n",
        "        ortalama = (not1 + not2 + not3) / 3\n",
        "        print(f\"Ortalamanız: {ortalama:.2f}\")\n",
        "\n",
        "        if ortalama >= 50:\n",
        "            print(\"Geçti!\")\n",
        "        else:\n",
        "            print(\"Kaldı!\")\n",
        "\n",
        "    except ValueError:\n",
        "        print(\"Lütfen geçerli bir not girin.\")\n",
        "\n",
        "not_ortalaması()\n"
      ],
      "metadata": {
        "colab": {
          "base_uri": "https://localhost:8080/"
        },
        "id": "ecPgLwJ8uXtE",
        "outputId": "e8384005-352f-450d-877d-8ec4b67df74c"
      },
      "execution_count": null,
      "outputs": [
        {
          "output_type": "stream",
          "name": "stdout",
          "text": [
            "1. ders notunu girin: 43\n",
            "2. ders notunu girin: 23\n",
            "3. ders notunu girin: 10\n",
            "Ortalamanız: 25.33\n",
            "Kaldı!\n"
          ]
        }
      ]
    },
    {
      "cell_type": "markdown",
      "source": [
        "### **Soru 22: Vücut Kitle İndeksi (VKİ)**\n",
        "- **Soru:** Kullanıcıdan boy (m) ve kilo (kg) alın. VKİ 25’ten büyükse “Fazla kilolu” yazdırın, değilse “Normal kilolu” yazdırın.\n",
        "- **Yapı:** `if-else`\n"
      ],
      "metadata": {
        "id": "lQ0wR-tT1ndL"
      }
    },
    {
      "cell_type": "code",
      "source": [
        "def vki_hesapla():\n",
        "    try:\n",
        "        kilo = float(input(\"Kilonuzu girin (kg): \"))\n",
        "        boy = float(input(\"Boyunuzu girin (m): \"))\n",
        "\n",
        "        vki = kilo / (boy ** 2)\n",
        "        print(f\"Vücut Kitle İndeksiniz: {vki:.2f}\")\n",
        "\n",
        "        if vki > 25:\n",
        "            print(\"Fazla kilolusunuz.\")\n",
        "        else:\n",
        "            print(\"Normal kilolu sınıfındasınız.\")\n",
        "\n",
        "    except ValueError:\n",
        "        print(\"Lütfen geçerli bir değer girin.\")\n",
        "\n",
        "vki_hesapla()\n"
      ],
      "metadata": {
        "colab": {
          "base_uri": "https://localhost:8080/"
        },
        "id": "PPyOapMUuTTP",
        "outputId": "250dead0-5665-4aa3-82e2-fffc2859fc1c"
      },
      "execution_count": null,
      "outputs": [
        {
          "output_type": "stream",
          "name": "stdout",
          "text": [
            "Kilonuzu girin (kg): 86\n",
            "Boyunuzu girin (m): 190\n",
            "Vücut Kitle İndeksiniz: 0.00\n",
            "Normal kilolu sınıfındasınız.\n"
          ]
        }
      ]
    },
    {
      "cell_type": "markdown",
      "source": [
        "### **Soru 23: Dört İşlem Menüsü**\n",
        "- **Soru:** Kullanıcıya dört işlem menüsü sunun ve sonucu yazdırın.\n",
        "- **Yapı:** `match-case`\n"
      ],
      "metadata": {
        "id": "sXdysCY31552"
      }
    },
    {
      "cell_type": "code",
      "source": [
        "print(\"Dört İşlem Menüsü:\")\n",
        "print(\"1. Toplama (+)\")\n",
        "print(\"2. Çıkarma (-)\")\n",
        "print(\"3. Çarpma (*)\")\n",
        "print(\"4. Bölme (/)\")\n",
        "\n",
        "try:\n",
        "    islem = input(\"Yapmak istediğiniz işlemi seçin (+, -, *, /): \")\n",
        "    sayi1 = float(input(\"Birinci sayıyı girin: \"))\n",
        "    sayi2 = float(input(\"İkinci sayıyı girin: \"))\n",
        "\n",
        "    match islem:\n",
        "        case \"+\":\n",
        "            print(\"Sonuç:\", sayi1 + sayi2)\n",
        "        case \"-\":\n",
        "            print(\"Sonuç:\", sayi1 - sayi2)\n",
        "        case \"*\":\n",
        "            print(\"Sonuç:\", sayi1 * sayi2)\n",
        "        case \"/\":\n",
        "            if sayi2 != 0:\n",
        "                print(\"Sonuç:\", sayi1 / sayi2)\n",
        "            else:\n",
        "                print(\"Hata: Sıfıra bölme yapılamaz.\")\n",
        "        case _:\n",
        "            print(\"Hata: Geçersiz işlem.\")\n",
        "except ValueError:\n",
        "    print(\"Hata: Geçerli bir sayı girin.\")\n"
      ],
      "metadata": {
        "colab": {
          "base_uri": "https://localhost:8080/"
        },
        "id": "4ostFKBrsiF5",
        "outputId": "432c5cb8-04a2-480d-8453-a615f971493f"
      },
      "execution_count": null,
      "outputs": [
        {
          "output_type": "stream",
          "name": "stdout",
          "text": [
            "Dört İşlem Menüsü:\n",
            "1. Toplama (+)\n",
            "2. Çıkarma (-)\n",
            "3. Çarpma (*)\n",
            "4. Bölme (/)\n",
            "Yapmak istediğiniz işlemi seçin (+, -, *, /): +\n",
            "Birinci sayıyı girin: 15\n",
            "İkinci sayıyı girin: 15\n",
            "Sonuç: 30.0\n"
          ]
        }
      ]
    },
    {
      "cell_type": "markdown",
      "source": [
        "### **Soru 24: Sayıların En Küçüğü**\n",
        "- **Soru:** Kullanıcıdan dört tam sayı alın ve en küçüğünü yazdırın.\n",
        "- **Yapı:** `if-else`\n"
      ],
      "metadata": {
        "id": "TJyuFAWz2DHa"
      }
    },
    {
      "cell_type": "code",
      "source": [
        "for i in range(4):\n",
        "  sayi = input(\"Lütfen sayı giriniz: \")\n",
        "  if i == 0:\n",
        "    kucuk = sayi\n",
        "  elif sayi < kucuk:\n",
        "    kucuk = sayi\n",
        "\n",
        "print(f\"En küçük sayı: {kucuk}\")\n"
      ],
      "metadata": {
        "colab": {
          "base_uri": "https://localhost:8080/"
        },
        "id": "sCyXoKN1sTYF",
        "outputId": "715a89d8-a8e6-4933-c7d4-d3fd9c944c4a"
      },
      "execution_count": null,
      "outputs": [
        {
          "output_type": "stream",
          "name": "stdout",
          "text": [
            "Lütfen sayı giriniz: 54\n",
            "Lütfen sayı giriniz: 43\n",
            "Lütfen sayı giriniz: 754\n",
            "Lütfen sayı giriniz: 23\n",
            "En küçük sayı: 23\n"
          ]
        }
      ]
    },
    {
      "cell_type": "markdown",
      "source": [
        "### **Soru 25: Artan Sıralama**\n",
        "- **Soru:** Kullanıcıdan üç tam sayı alın ve küçükten büyüğe sıralayın.\n",
        "- **Yapı:** `if-else`\n"
      ],
      "metadata": {
        "id": "_ms5ZxuI2XdN"
      }
    },
    {
      "cell_type": "code",
      "source": [
        "try:\n",
        "    sayi1 = int(input(\"1. sayıyı girin: \"))\n",
        "    sayi2 = int(input(\"2. sayıyı girin: \"))\n",
        "    sayi3 = int(input(\"3. sayıyı girin: \"))\n",
        "\n",
        "    if sayi1 > sayi2:\n",
        "        sayi1, sayi2 = sayi2, sayi1\n",
        "    if sayi2 > sayi3:\n",
        "        sayi2, sayi3 = sayi3, sayi2\n",
        "    if sayi1 > sayi2:\n",
        "        sayi1, sayi2 = sayi2, sayi1\n",
        "\n",
        "    print(\"Sıralı:\", sayi1, sayi2, sayi3)\n",
        "\n",
        "except ValueError:\n",
        "    print(\"Hata: Geçerli bir tam sayı girin.\")\n"
      ],
      "metadata": {
        "colab": {
          "base_uri": "https://localhost:8080/"
        },
        "id": "E5rbZh7tsWxy",
        "outputId": "4b6b5d6c-deb4-4e68-8ca5-e5f75a8b298b"
      },
      "execution_count": null,
      "outputs": [
        {
          "output_type": "stream",
          "name": "stdout",
          "text": [
            "1. sayıyı girin: 23\n",
            "2. sayıyı girin: 43\n",
            "3. sayıyı girin: 12\n",
            "Sıralı: 12 23 43\n"
          ]
        }
      ]
    },
    {
      "cell_type": "markdown",
      "source": [
        "### **Soru 26: Sayıların Toplamı (While ile)**\n",
        "- **Soru:** Kullanıcıdan bir N alın ve 1-N arası toplamı while ile yazdırın.\n",
        "- **Yapı:** `while` döngüsü\n"
      ],
      "metadata": {
        "id": "O9CqYNjn2wiw"
      }
    },
    {
      "cell_type": "code",
      "source": [
        "try:\n",
        "    N = int(input(\"Bir sayı girin: \"))\n",
        "    toplam = 0\n",
        "    i = 1\n",
        "\n",
        "    while i <= N:\n",
        "        toplam += i\n",
        "        i += 1\n",
        "\n",
        "    print(\"Toplam:\", toplam)\n",
        "\n",
        "except ValueError:\n",
        "    print(\"Hata: Geçerli bir tam sayı girin.\")\n"
      ],
      "metadata": {
        "colab": {
          "base_uri": "https://localhost:8080/"
        },
        "id": "IY9x3FQGsXKk",
        "outputId": "a6be1af9-8073-404e-a776-1124677f0205"
      },
      "execution_count": null,
      "outputs": [
        {
          "output_type": "stream",
          "name": "stdout",
          "text": [
            "Bir sayı girin: 23\n",
            "Toplam: 276\n"
          ]
        }
      ]
    },
    {
      "cell_type": "markdown",
      "source": [
        "### **Soru 27: Sayıların Çarpımı**\n",
        "- **Soru:** 1-5 arası sayıların çarpımını yazdırın.\n",
        "- **Yapı:** `for` döngüsü\n"
      ],
      "metadata": {
        "id": "T2Fo6y9k26kq"
      }
    },
    {
      "cell_type": "code",
      "source": [
        "carpim = 1\n",
        "\n",
        "for i in range(1, 6):\n",
        "    carpim *= i\n",
        "\n",
        "print(\"Çarpım:\", carpim)\n"
      ],
      "metadata": {
        "colab": {
          "base_uri": "https://localhost:8080/"
        },
        "id": "7cuFfG43264d",
        "outputId": "8cb695c5-82f9-4c15-d00f-583bb26a0029"
      },
      "execution_count": null,
      "outputs": [
        {
          "output_type": "stream",
          "name": "stdout",
          "text": [
            "Çarpım: 120\n"
          ]
        }
      ]
    },
    {
      "cell_type": "markdown",
      "source": [
        "### **Soru 28: Sayıların Karesini Toplama**\n",
        "- **Soru:** 1-10 arası sayıların karelerinin toplamını yazdırın.\n",
        "- **Yapı:** `for` döngüsü\n"
      ],
      "metadata": {
        "id": "RE0JdBWd3MV1"
      }
    },
    {
      "cell_type": "code",
      "source": [
        "toplam = 0\n",
        "\n",
        "for i in range(1, 11):\n",
        "    toplam += i ** 2\n",
        "\n",
        "print(\"Kareler toplamı:\", toplam)\n"
      ],
      "metadata": {
        "colab": {
          "base_uri": "https://localhost:8080/"
        },
        "id": "CdXSJyTasBNO",
        "outputId": "90670c0f-6bbc-4d14-b4bc-588c25aa3eda"
      },
      "execution_count": null,
      "outputs": [
        {
          "output_type": "stream",
          "name": "stdout",
          "text": [
            "Kareler toplamı: 385\n"
          ]
        }
      ]
    },
    {
      "cell_type": "markdown",
      "source": [
        "### **Soru 29: Sayıların Küpünü Toplama**\n",
        "- **Soru:** Kullanıcıdan bir N alın ve 1-N arası küplerin toplamını yazdırın.\n",
        "- **Yapı:** `for` döngüsü\n"
      ],
      "metadata": {
        "id": "3AnzSoDR3S2Y"
      }
    },
    {
      "cell_type": "code",
      "source": [
        "try:\n",
        "    N = int(input(\"Bir sayı girin: \"))\n",
        "    toplam = 0\n",
        "\n",
        "    for i in range(1, N + 1):\n",
        "        toplam += i ** 3\n",
        "\n",
        "    print(\"Küpler toplamı:\", toplam)\n",
        "\n",
        "except ValueError:\n",
        "    print(\"Hata: Geçerli bir tam sayı girin.\")\n"
      ],
      "metadata": {
        "colab": {
          "base_uri": "https://localhost:8080/"
        },
        "id": "xQQ2CL0XrxoK",
        "outputId": "b226e3e0-0d0f-4ab5-db53-9b68ca41c43b"
      },
      "execution_count": null,
      "outputs": [
        {
          "output_type": "stream",
          "name": "stdout",
          "text": [
            "Bir sayı girin: 43\n",
            "Küpler toplamı: 894916\n"
          ]
        }
      ]
    },
    {
      "cell_type": "markdown",
      "source": [
        "### **Soru 30: Basit Sayı Sayacı**\n",
        "- **Soru:** 1-100 arası hem 3’e hem 5’e bölünen sayıları sayın ve yazdırın.\n",
        "- **Yapı:** `for` döngüsü ve `if-else`\n"
      ],
      "metadata": {
        "id": "6ZkvZwz83mUr"
      }
    },
    {
      "cell_type": "code",
      "source": [
        "for i in range(1,100):\n",
        "  if i % 3 == 0:\n",
        "    print(f\"{i} sayısı 3 e bölünebiliyor\")\n",
        "\n",
        "  elif i % 5 == 0:\n",
        "    print(f\"{i} sayısı 5 e bölünebiliyor\")\n",
        "\n",
        "  if i % 3 == 0 and i % 5 == 0:\n",
        "    print(f\"{i} sayısı hem 3 e hem de 5 e bölünebiliyor\")"
      ],
      "metadata": {
        "colab": {
          "base_uri": "https://localhost:8080/"
        },
        "id": "i5otl9GkrnhO",
        "outputId": "4509cde1-7fdb-4f2c-86ab-5635ffcdc98c"
      },
      "execution_count": null,
      "outputs": [
        {
          "output_type": "stream",
          "name": "stdout",
          "text": [
            "3 sayısı 3 e bölünebiliyor\n",
            "5 sayısı 5 e bölünebiliyor\n",
            "6 sayısı 3 e bölünebiliyor\n",
            "9 sayısı 3 e bölünebiliyor\n",
            "10 sayısı 5 e bölünebiliyor\n",
            "12 sayısı 3 e bölünebiliyor\n",
            "15 sayısı 3 e bölünebiliyor\n",
            "15 sayısı hem 3 e hem de 5 e bölünebiliyor\n",
            "18 sayısı 3 e bölünebiliyor\n",
            "20 sayısı 5 e bölünebiliyor\n",
            "21 sayısı 3 e bölünebiliyor\n",
            "24 sayısı 3 e bölünebiliyor\n",
            "25 sayısı 5 e bölünebiliyor\n",
            "27 sayısı 3 e bölünebiliyor\n",
            "30 sayısı 3 e bölünebiliyor\n",
            "30 sayısı hem 3 e hem de 5 e bölünebiliyor\n",
            "33 sayısı 3 e bölünebiliyor\n",
            "35 sayısı 5 e bölünebiliyor\n",
            "36 sayısı 3 e bölünebiliyor\n",
            "39 sayısı 3 e bölünebiliyor\n",
            "40 sayısı 5 e bölünebiliyor\n",
            "42 sayısı 3 e bölünebiliyor\n",
            "45 sayısı 3 e bölünebiliyor\n",
            "45 sayısı hem 3 e hem de 5 e bölünebiliyor\n",
            "48 sayısı 3 e bölünebiliyor\n",
            "50 sayısı 5 e bölünebiliyor\n",
            "51 sayısı 3 e bölünebiliyor\n",
            "54 sayısı 3 e bölünebiliyor\n",
            "55 sayısı 5 e bölünebiliyor\n",
            "57 sayısı 3 e bölünebiliyor\n",
            "60 sayısı 3 e bölünebiliyor\n",
            "60 sayısı hem 3 e hem de 5 e bölünebiliyor\n",
            "63 sayısı 3 e bölünebiliyor\n",
            "65 sayısı 5 e bölünebiliyor\n",
            "66 sayısı 3 e bölünebiliyor\n",
            "69 sayısı 3 e bölünebiliyor\n",
            "70 sayısı 5 e bölünebiliyor\n",
            "72 sayısı 3 e bölünebiliyor\n",
            "75 sayısı 3 e bölünebiliyor\n",
            "75 sayısı hem 3 e hem de 5 e bölünebiliyor\n",
            "78 sayısı 3 e bölünebiliyor\n",
            "80 sayısı 5 e bölünebiliyor\n",
            "81 sayısı 3 e bölünebiliyor\n",
            "84 sayısı 3 e bölünebiliyor\n",
            "85 sayısı 5 e bölünebiliyor\n",
            "87 sayısı 3 e bölünebiliyor\n",
            "90 sayısı 3 e bölünebiliyor\n",
            "90 sayısı hem 3 e hem de 5 e bölünebiliyor\n",
            "93 sayısı 3 e bölünebiliyor\n",
            "95 sayısı 5 e bölünebiliyor\n",
            "96 sayısı 3 e bölünebiliyor\n",
            "99 sayısı 3 e bölünebiliyor\n"
          ]
        }
      ]
    },
    {
      "cell_type": "markdown",
      "source": [
        "### **Soru 31: Not Harfini Belirleme**\n",
        "- **Soru:** Kullanıcıdan bir sınav notu (0-100 arasında) alın ve harf notuna çevirin.\n",
        "- **Yapı:** `if-elif-else`\n"
      ],
      "metadata": {
        "id": "NYfhX6BV4IHz"
      }
    },
    {
      "cell_type": "code",
      "source": [
        "try:\n",
        "    notu = int(input(\"Sınav notunu girin (0-100): \"))\n",
        "\n",
        "    if 90 <= notu <= 100:\n",
        "        print(\"Harf Notu: A\")\n",
        "    elif 80 <= notu < 90:\n",
        "        print(\"Harf Notu: B\")\n",
        "    elif 70 <= notu < 80:\n",
        "        print(\"Harf Notu: C\")\n",
        "    elif 60 <= notu < 70:\n",
        "        print(\"Harf Notu: D\")\n",
        "    elif 0 <= notu < 60:\n",
        "        print(\"Harf Notu: F\")\n",
        "    else:\n",
        "        print(\"Hata: 0-100 arasında bir not girin.\")\n",
        "\n",
        "except ValueError:\n",
        "    print(\"Hata: Geçerli bir not girin.\")\n"
      ],
      "metadata": {
        "colab": {
          "base_uri": "https://localhost:8080/"
        },
        "id": "KjsVwFdv4KGJ",
        "outputId": "0d781513-fc69-433b-b2b4-5bd8ad5ea43b"
      },
      "execution_count": null,
      "outputs": [
        {
          "output_type": "stream",
          "name": "stdout",
          "text": [
            "Sınav notunu girin (0-100): 43\n",
            "Harf Notu: F\n"
          ]
        }
      ]
    },
    {
      "cell_type": "markdown",
      "source": [
        "### **Soru 32: Üç Sayının Karşılaştırılması**\n",
        "- **Soru:** Kullanıcıdan üç tam sayı alın ve eşitlik durumlarını belirleyin.\n",
        "- **Yapı:** `if-elif-else`\n"
      ],
      "metadata": {
        "id": "RI8Dxo6J4MfB"
      }
    },
    {
      "cell_type": "code",
      "source": [
        "try:\n",
        "    sayi1 = int(input(\"1. sayıyı girin: \"))\n",
        "    sayi2 = int(input(\"2. sayıyı girin: \"))\n",
        "    sayi3 = int(input(\"3. sayıyı girin: \"))\n",
        "\n",
        "    if sayi1 == sayi2 == sayi3:\n",
        "        print(\"Tüm sayılar eşit.\")\n",
        "    elif sayi1 == sayi2 or sayi1 == sayi3 or sayi2 == sayi3:\n",
        "        print(\"İki sayı eşit.\")\n",
        "    else:\n",
        "        print(\"Hiçbiri eşit değil.\")\n",
        "\n",
        "except ValueError:\n",
        "    print(\"Hata: Geçerli bir tam sayı girin.\")\n"
      ],
      "metadata": {
        "colab": {
          "base_uri": "https://localhost:8080/"
        },
        "id": "4MK2dNx24KX1",
        "outputId": "c2992a64-a9be-43d5-8320-4c2d337fb741"
      },
      "execution_count": null,
      "outputs": [
        {
          "output_type": "stream",
          "name": "stdout",
          "text": [
            "1. sayıyı girin: 43\n",
            "2. sayıyı girin: 23\n",
            "3. sayıyı girin: 23\n",
            "İki sayı eşit.\n"
          ]
        }
      ]
    },
    {
      "cell_type": "markdown",
      "source": [
        "### **Soru 33: Artık Yıl Kontrolü**\n",
        "- **Soru:** Kullanıcıdan bir yıl alın ve artık yıl olup olmadığını kontrol edin.\n",
        "- **Yapı:** `if-elif-else`\n"
      ],
      "metadata": {
        "id": "UHAWeTaW4Qq2"
      }
    },
    {
      "cell_type": "code",
      "source": [
        "try:\n",
        "    yil = int(input(\"Bir yıl girin: \"))\n",
        "\n",
        "    if (yil % 4 == 0 and yil % 100 != 0) or (yil % 400 == 0):\n",
        "        print(yil, \"artık yıldır.\")\n",
        "    else:\n",
        "        print(yil, \"artık yıl değildir.\")\n",
        "\n",
        "except ValueError:\n",
        "    print(\"Hata: Geçerli bir yıl girin.\")\n"
      ],
      "metadata": {
        "colab": {
          "base_uri": "https://localhost:8080/"
        },
        "id": "BVqs1Wne4OF1",
        "outputId": "a9daec35-175a-48c7-fa54-548fca4c2179"
      },
      "execution_count": null,
      "outputs": [
        {
          "output_type": "stream",
          "name": "stdout",
          "text": [
            "Bir yıl girin: 2024\n",
            "2024 artık yıldır.\n"
          ]
        }
      ]
    },
    {
      "cell_type": "markdown",
      "source": [
        "### **Soru 34: BMI Kategorisi**\n",
        "- **Soru:** Kullanıcıdan boy (metre) ve kilo (kg) alın. Vücut Kitle İndeksi’ni (BMI) hesaplayın ve kategoriye göre sınıflandırın.\n",
        "- **Yapı:** `if-elif-else`\n"
      ],
      "metadata": {
        "id": "_0FI5PHg4VKc"
      }
    },
    {
      "cell_type": "code",
      "source": [
        "try:\n",
        "    kilo = float(input(\"Kilonuzu girin (kg): \"))\n",
        "    boy = float(input(\"Boyunuzu girin (m): \"))\n",
        "\n",
        "    vki = kilo / (boy ** 2)\n",
        "    print(f\"Vücut Kitle İndeksiniz: {vki:.2f}\")\n",
        "\n",
        "    if vki < 18.5:\n",
        "        print(\"Kategori: Zayıf\")\n",
        "    elif 18.5 <= vki < 25:\n",
        "        print(\"Kategori: Normal\")\n",
        "    elif 25 <= vki < 30:\n",
        "        print(\"Kategori: Fazla Kilolu\")\n",
        "    else:\n",
        "        print(\"Kategori: Obez\")\n",
        "\n",
        "except ValueError:\n",
        "    print(\"Hata: Geçerli bir değer girin.\")\n"
      ],
      "metadata": {
        "colab": {
          "base_uri": "https://localhost:8080/"
        },
        "id": "3NPO0nkq4R8T",
        "outputId": "1540883d-76a0-4bdd-e813-bef771780fb4"
      },
      "execution_count": null,
      "outputs": [
        {
          "output_type": "stream",
          "name": "stdout",
          "text": [
            "Kilonuzu girin (kg): 86\n",
            "Boyunuzu girin (m): 1.9\n",
            "Vücut Kitle İndeksiniz: 23.82\n",
            "Kategori: Normal\n"
          ]
        }
      ]
    },
    {
      "cell_type": "markdown",
      "source": [
        "### **Soru 35: Üçgen Türü Belirleme**\n",
        "- **Soru:** Kullanıcıdan üç kenar uzunluğu alın. Üçgen olup olmadığını ve türünü belirleyin.\n",
        "- **Yapı:** `if-elif-else`\n"
      ],
      "metadata": {
        "id": "pJI70NpF4avq"
      }
    },
    {
      "cell_type": "markdown",
      "source": [],
      "metadata": {
        "id": "cLw_wbrc4asd"
      }
    },
    {
      "cell_type": "code",
      "source": [
        "try:\n",
        "    kenar1 = float(input(\"1. kenarı girin: \"))\n",
        "    kenar2 = float(input(\"2. kenarı girin: \"))\n",
        "    kenar3 = float(input(\"3. kenarı girin: \"))\n",
        "\n",
        "    if kenar1 + kenar2 > kenar3 and kenar1 + kenar3 > kenar2 and kenar2 + kenar3 > kenar1:\n",
        "        if kenar1 == kenar2 == kenar3:\n",
        "            print(\"Üçgen Türü: Eşkenar Üçgen\")\n",
        "        elif kenar1 == kenar2 or kenar1 == kenar3 or kenar2 == kenar3:\n",
        "            print(\"Üçgen Türü: İkizkenar Üçgen\")\n",
        "        else:\n",
        "            print(\"Üçgen Türü: Çeşitkenar Üçgen\")\n",
        "    else:\n",
        "        print(\"Bu kenarlarla üçgen oluşturulamaz.\")\n",
        "\n",
        "except ValueError:\n",
        "    print(\"Hata: Geçerli bir uzunluk girin.\")\n"
      ],
      "metadata": {
        "colab": {
          "base_uri": "https://localhost:8080/"
        },
        "id": "RwP5NSLd4Wzl",
        "outputId": "17f8c703-7998-4157-90c5-4532400a49cf"
      },
      "execution_count": null,
      "outputs": [
        {
          "output_type": "stream",
          "name": "stdout",
          "text": [
            "1. kenarı girin: 23\n",
            "2. kenarı girin: 34\n",
            "3. kenarı girin: 23\n",
            "Üçgen Türü: İkizkenar Üçgen\n"
          ]
        }
      ]
    },
    {
      "cell_type": "markdown",
      "source": [
        "### **Soru 36: Yaş ve Bilet Fiyatı**\n",
        "- **Soru:** Kullanıcıdan yaşını alın. Yaşına göre sinema bilet fiyatını belirleyin.\n",
        "- **Yapı:** `if-elif-else`\n"
      ],
      "metadata": {
        "id": "XhLl_Ipz4owC"
      }
    },
    {
      "cell_type": "code",
      "source": [
        "try:\n",
        "    yas = int(input(\"Yaşınızı girin: \"))\n",
        "\n",
        "    if yas <= 5:\n",
        "        print(\"Bilet Fiyatı: Ücretsiz\")\n",
        "    elif 6 <= yas <= 18:\n",
        "        print(\"Bilet Fiyatı: 10 TL\")\n",
        "    elif 19 <= yas <= 64:\n",
        "        print(\"Bilet Fiyatı: 20 TL\")\n",
        "    else:\n",
        "        print(\"Bilet Fiyatı: 15 TL\")\n",
        "\n",
        "except ValueError:\n",
        "    print(\"Hata: Geçerli bir yaş girin.\")\n"
      ],
      "metadata": {
        "colab": {
          "base_uri": "https://localhost:8080/"
        },
        "id": "ljF3cEqL4cb2",
        "outputId": "f66e0125-5433-424e-faa4-469711e24e70"
      },
      "execution_count": null,
      "outputs": [
        {
          "output_type": "stream",
          "name": "stdout",
          "text": [
            "Yaşınızı girin: 34\n",
            "Bilet Fiyatı: 20 TL\n"
          ]
        }
      ]
    },
    {
      "cell_type": "markdown",
      "source": [
        "### **Soru 37: Hava Durumu Önerisi**\n",
        "- **Soru:** Kullanıcıdan hava durumunu (güneşli, yağmurlu, karlı) ve sıcaklığı (°C) alın. Öneriler sunun.\n",
        "- **Yapı:** `if-elif-else`\n"
      ],
      "metadata": {
        "id": "UdjPEhUX4yKX"
      }
    },
    {
      "cell_type": "code",
      "source": [
        "try:\n",
        "    hava = input(\"Hava durumunu girin (güneşli, yağmurlu, karlı): \").lower()\n",
        "    sicaklik = float(input(\"Sıcaklığı girin (°C): \"))\n",
        "\n",
        "    if hava == \"güneşli\" and sicaklik >= 25:\n",
        "        print(\"Piknik yapabilirsiniz.\")\n",
        "    elif hava == \"yağmurlu\":\n",
        "        print(\"Şemsiye almayı unutmayın.\")\n",
        "    elif hava == \"karlı\" and sicaklik < 0:\n",
        "        print(\"Kayak yapmaya gidebilirsiniz.\")\n",
        "    elif hava in [\"güneşli\", \"yağmurlu\", \"karlı\"]:\n",
        "        print(\"Evde kalabilirsiniz.\")\n",
        "    else:\n",
        "        raise ValueError(\"Geçersiz hava durumu girdiniz!\")\n",
        "\n",
        "except ValueError as e:\n",
        "    print(\"Hata:\", e)\n",
        "except Exception:\n",
        "    print(\"Bilinmeyen bir hata oluştu, lütfen tekrar deneyin.\")\n"
      ],
      "metadata": {
        "colab": {
          "base_uri": "https://localhost:8080/"
        },
        "id": "FsO-0IaK4tuR",
        "outputId": "1769e004-e0c5-40da-bef3-a80f1a0f8a85"
      },
      "execution_count": null,
      "outputs": [
        {
          "output_type": "stream",
          "name": "stdout",
          "text": [
            "Hava durumunu girin (güneşli, yağmurlu, karlı): 43\n",
            "Sıcaklığı girin (°C): 23\n",
            "Hata: Geçersiz hava durumu girdiniz!\n"
          ]
        }
      ]
    },
    {
      "cell_type": "markdown",
      "source": [
        "### **Soru 38: Sayının Pozitif, Negatif veya Sıfır Olup Olmadığını Kontrol Etme**\n",
        "- **Soru:** Kullanıcıdan bir tam sayı alın. Sayının durumunu belirleyin.\n",
        "- **Yapı:** `if-elif-else`\n"
      ],
      "metadata": {
        "id": "yYp1SmWr5FTr"
      }
    },
    {
      "cell_type": "code",
      "source": [
        "try:\n",
        "    sayi = int(input(\"Bir tam sayı girin: \"))\n",
        "\n",
        "    if sayi > 0:\n",
        "        print(\"Pozitif\")\n",
        "    elif sayi < 0:\n",
        "        print(\"Negatif\")\n",
        "    else:\n",
        "        print(\"Sıfır\")\n",
        "\n",
        "except ValueError:\n",
        "    print(\"Hata: Geçerli bir tam sayı girin.\")\n"
      ],
      "metadata": {
        "colab": {
          "base_uri": "https://localhost:8080/"
        },
        "id": "jSFexCK14zms",
        "outputId": "9266835f-d0ea-4f09-d3f4-1048e7938722"
      },
      "execution_count": null,
      "outputs": [
        {
          "output_type": "stream",
          "name": "stdout",
          "text": [
            "Bir tam sayı girin: 32\n",
            "Pozitif\n"
          ]
        }
      ]
    },
    {
      "cell_type": "markdown",
      "source": [
        "### **Soru 39: İki Sayının Karşılaştırılması**\n",
        "- **Soru:** Kullanıcıdan iki tam sayı alın ve büyüklük karşılaştırması yapın.\n",
        "- **Yapı:** `if-elif-else`\n"
      ],
      "metadata": {
        "id": "gKxhTJTN5LpL"
      }
    },
    {
      "cell_type": "code",
      "source": [
        "try:\n",
        "    sayi1 = int(input(\"Birinci sayıyı girin: \"))\n",
        "    sayi2 = int(input(\"İkinci sayıyı girin: \"))\n",
        "\n",
        "    if sayi1 > sayi2:\n",
        "        print(\"Birinci sayı büyük\")\n",
        "    elif sayi2 > sayi1:\n",
        "        print(\"İkinci sayı büyük\")\n",
        "    else:\n",
        "        print(\"Sayılar eşit\")\n",
        "\n",
        "except ValueError:\n",
        "    print(\"Hata: Geçerli bir tam sayı girin.\")\n"
      ],
      "metadata": {
        "colab": {
          "base_uri": "https://localhost:8080/"
        },
        "id": "I3JaZziU5IB_",
        "outputId": "ef74cb07-7b13-4da3-ecae-08a8acfe28e4"
      },
      "execution_count": null,
      "outputs": [
        {
          "output_type": "stream",
          "name": "stdout",
          "text": [
            "Birinci sayıyı girin: 32\n",
            "İkinci sayıyı girin: 12\n",
            "Birinci sayı büyük\n"
          ]
        }
      ]
    },
    {
      "cell_type": "markdown",
      "source": [
        "### **Soru 40: Üyelik Durumu ve İndirim**\n",
        "- **Soru:** Kullanıcıdan alışveriş tutarını ve üyelik durumunu alın. Üyelik durumuna göre indirim uygulayın.\n",
        "- **Yapı:** `if-else`\n"
      ],
      "metadata": {
        "id": "SwvVLFrW5Oiq"
      }
    },
    {
      "cell_type": "code",
      "source": [
        "try:\n",
        "    tutar = float(input(\"Alışveriş tutarını girin: \"))\n",
        "    uyelik = input(\"Üyelik durumunuz (üye/non-üye): \").lower()\n",
        "\n",
        "    if uyelik == \"üye\":\n",
        "        indirimli_tutar = tutar * 0.90\n",
        "        print(f\"Üyelik indirimi uygulandı. Ödemeniz gereken tutar: {indirimli_tutar:.2f} TL\")\n",
        "    else:\n",
        "        indirimli_tutar = tutar * 0.95\n",
        "        print(f\"Non-üye indirimi uygulandı. Ödemeniz gereken tutar: {indirimli_tutar:.2f} TL\")\n",
        "\n",
        "except ValueError:\n",
        "    print(\"Hata: Geçerli bir tutar girin.\")\n"
      ],
      "metadata": {
        "colab": {
          "base_uri": "https://localhost:8080/"
        },
        "id": "iu664VzT5Mtb",
        "outputId": "3e3ec0f7-47b7-4271-b8ca-1741a9c0f440"
      },
      "execution_count": null,
      "outputs": [
        {
          "output_type": "stream",
          "name": "stdout",
          "text": [
            "Alışveriş tutarını girin: 23\n",
            "Üyelik durumunuz (üye/non-üye): üye\n",
            "Üyelik indirimi uygulandı. Ödemeniz gereken tutar: 20.70 TL\n"
          ]
        }
      ]
    },
    {
      "cell_type": "code",
      "source": [
        "from google.colab import drive\n",
        "drive.mount('/content/drive')\n"
      ],
      "metadata": {
        "colab": {
          "base_uri": "https://localhost:8080/"
        },
        "id": "wxGfqegS95GA",
        "outputId": "8287732c-e009-47c6-8201-18eb8077849a"
      },
      "execution_count": 61,
      "outputs": [
        {
          "output_type": "stream",
          "name": "stdout",
          "text": [
            "Mounted at /content/drive\n"
          ]
        }
      ]
    },
    {
      "cell_type": "code",
      "source": [
        "!git clone https://github.com/izzetcoco/Python.git\n",
        "!mv YzOdev1.ipynb Python/\n",
        "%cd Python\n"
      ],
      "metadata": {
        "colab": {
          "base_uri": "https://localhost:8080/"
        },
        "id": "WsyNJUqS95Ze",
        "outputId": "67c508ba-1dce-425e-e88a-c3fbe3310263"
      },
      "execution_count": 63,
      "outputs": [
        {
          "output_type": "stream",
          "name": "stdout",
          "text": [
            "Cloning into 'Python'...\n",
            "warning: You appear to have cloned an empty repository.\n",
            "mv: cannot stat 'YzOdev1.ipynb': No such file or directory\n",
            "/content/Python/Python\n"
          ]
        }
      ]
    },
    {
      "cell_type": "code",
      "source": [],
      "metadata": {
        "id": "duQmOm3Y-Rvn"
      },
      "execution_count": null,
      "outputs": []
    }
  ]
}